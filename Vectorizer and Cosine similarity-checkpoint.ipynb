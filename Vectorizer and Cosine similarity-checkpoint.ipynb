{
 "cells": [
  {
   "cell_type": "code",
   "execution_count": 1,
   "metadata": {},
   "outputs": [],
   "source": [
    "from sklearn.feature_extraction.text import CountVectorizer\n",
    "vect=CountVectorizer(binary=True)\n",
    "corpus = [\"Millie Bobby Brown is an English actress and producer.\", \"She rose to prominence for her role as Eleven in the Netflix science fiction series Stranger Things, for which she received Primetime Emmy Award nominations for Outstanding Supporting Actress in a Drama Series.\"]"
   ]
  },
  {
   "cell_type": "code",
   "execution_count": 2,
   "metadata": {},
   "outputs": [
    {
     "data": {
      "text/plain": [
       "CountVectorizer(analyzer='word', binary=True, decode_error='strict',\n",
       "                dtype=<class 'numpy.int64'>, encoding='utf-8', input='content',\n",
       "                lowercase=True, max_df=1.0, max_features=None, min_df=1,\n",
       "                ngram_range=(1, 1), preprocessor=None, stop_words=None,\n",
       "                strip_accents=None, token_pattern='(?u)\\\\b\\\\w\\\\w+\\\\b',\n",
       "                tokenizer=None, vocabulary=None)"
      ]
     },
     "execution_count": 2,
     "metadata": {},
     "output_type": "execute_result"
    }
   ],
   "source": [
    "vect.fit(corpus)"
   ]
  },
  {
   "cell_type": "code",
   "execution_count": 3,
   "metadata": {},
   "outputs": [
    {
     "data": {
      "text/plain": [
       "{'millie': 16,\n",
       " 'bobby': 5,\n",
       " 'brown': 6,\n",
       " 'is': 15,\n",
       " 'an': 1,\n",
       " 'english': 10,\n",
       " 'actress': 0,\n",
       " 'and': 2,\n",
       " 'producer': 21,\n",
       " 'she': 28,\n",
       " 'rose': 25,\n",
       " 'to': 33,\n",
       " 'prominence': 22,\n",
       " 'for': 12,\n",
       " 'her': 13,\n",
       " 'role': 24,\n",
       " 'as': 3,\n",
       " 'eleven': 8,\n",
       " 'in': 14,\n",
       " 'the': 31,\n",
       " 'netflix': 17,\n",
       " 'science': 26,\n",
       " 'fiction': 11,\n",
       " 'series': 27,\n",
       " 'stranger': 29,\n",
       " 'things': 32,\n",
       " 'which': 34,\n",
       " 'received': 23,\n",
       " 'primetime': 20,\n",
       " 'emmy': 9,\n",
       " 'award': 4,\n",
       " 'nominations': 18,\n",
       " 'outstanding': 19,\n",
       " 'supporting': 30,\n",
       " 'drama': 7}"
      ]
     },
     "execution_count": 3,
     "metadata": {},
     "output_type": "execute_result"
    }
   ],
   "source": [
    "vocab=vect.vocabulary_\n",
    "vocab"
   ]
  },
  {
   "cell_type": "code",
   "execution_count": 4,
   "metadata": {},
   "outputs": [
    {
     "name": "stdout",
     "output_type": "stream",
     "text": [
      "actress:0\n",
      "an:1\n",
      "and:2\n",
      "as:3\n",
      "award:4\n",
      "bobby:5\n",
      "brown:6\n",
      "drama:7\n",
      "eleven:8\n",
      "emmy:9\n",
      "english:10\n",
      "fiction:11\n",
      "for:12\n",
      "her:13\n",
      "in:14\n",
      "is:15\n",
      "millie:16\n",
      "netflix:17\n",
      "nominations:18\n",
      "outstanding:19\n",
      "primetime:20\n",
      "producer:21\n",
      "prominence:22\n",
      "received:23\n",
      "role:24\n",
      "rose:25\n",
      "science:26\n",
      "series:27\n",
      "she:28\n",
      "stranger:29\n",
      "supporting:30\n",
      "the:31\n",
      "things:32\n",
      "to:33\n",
      "which:34\n"
     ]
    }
   ],
   "source": [
    "for key in sorted(vocab.keys()):\n",
    "    print(\"{}:{}\".format(key, vocab[key]))"
   ]
  },
  {
   "cell_type": "code",
   "execution_count": 5,
   "metadata": {},
   "outputs": [
    {
     "name": "stdout",
     "output_type": "stream",
     "text": [
      "[[1 0 0 0 1 0 0 1 0 1 0 0 1 0 1 0 1 0 0 1 1 0 0 0 0 0 0 1 0 0 1 0 0 0 0]]\n"
     ]
    }
   ],
   "source": [
    "print(vect.transform([\"Millie earned a Primetime Emmy Award nomination for Outstanding Supporting Actress in a Drama Series at age 13.\"]).toarray())"
   ]
  },
  {
   "cell_type": "code",
   "execution_count": 6,
   "metadata": {},
   "outputs": [
    {
     "name": "stdout",
     "output_type": "stream",
     "text": [
      "[[0.73786479]]\n"
     ]
    }
   ],
   "source": [
    "from sklearn.metrics.pairwise import cosine_similarity\n",
    "similarity = cosine_similarity(vect.transform([\"Millie Bobby Brown is a Spanish-born British actress who was born on February 19, 2004. Her family moved back to the U.K. when Brown was four years old and then moved to Orlando, Florida, four years later to start an entrepreneurial business.\"]).toarray(), vect.transform([\"Millie Bobby Brown is an English actress and producer.\"]).toarray())\n",
    "print(similarity)"
   ]
  },
  {
   "cell_type": "code",
   "execution_count": null,
   "metadata": {},
   "outputs": [],
   "source": []
  }
 ],
 "metadata": {
  "kernelspec": {
   "display_name": "Python 3",
   "language": "python",
   "name": "python3"
  },
  "language_info": {
   "codemirror_mode": {
    "name": "ipython",
    "version": 3
   },
   "file_extension": ".py",
   "mimetype": "text/x-python",
   "name": "python",
   "nbconvert_exporter": "python",
   "pygments_lexer": "ipython3",
   "version": "3.7.6"
  }
 },
 "nbformat": 4,
 "nbformat_minor": 4
}
