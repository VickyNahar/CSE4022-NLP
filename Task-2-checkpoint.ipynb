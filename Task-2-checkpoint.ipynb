{
 "cells": [
  {
   "cell_type": "code",
   "execution_count": 2,
   "metadata": {},
   "outputs": [],
   "source": [
    "import nltk"
   ]
  },
  {
   "cell_type": "code",
   "execution_count": 3,
   "metadata": {},
   "outputs": [
    {
     "data": {
      "text/plain": [
       "['i',\n",
       " 'me',\n",
       " 'my',\n",
       " 'myself',\n",
       " 'we',\n",
       " 'our',\n",
       " 'ours',\n",
       " 'ourselves',\n",
       " 'you',\n",
       " \"you're\",\n",
       " \"you've\",\n",
       " \"you'll\",\n",
       " \"you'd\",\n",
       " 'your',\n",
       " 'yours',\n",
       " 'yourself',\n",
       " 'yourselves',\n",
       " 'he',\n",
       " 'him',\n",
       " 'his',\n",
       " 'himself',\n",
       " 'she',\n",
       " \"she's\",\n",
       " 'her',\n",
       " 'hers',\n",
       " 'herself',\n",
       " 'it',\n",
       " \"it's\",\n",
       " 'its',\n",
       " 'itself',\n",
       " 'they',\n",
       " 'them',\n",
       " 'their',\n",
       " 'theirs',\n",
       " 'themselves',\n",
       " 'what',\n",
       " 'which',\n",
       " 'who',\n",
       " 'whom',\n",
       " 'this',\n",
       " 'that',\n",
       " \"that'll\",\n",
       " 'these',\n",
       " 'those',\n",
       " 'am',\n",
       " 'is',\n",
       " 'are',\n",
       " 'was',\n",
       " 'were',\n",
       " 'be',\n",
       " 'been',\n",
       " 'being',\n",
       " 'have',\n",
       " 'has',\n",
       " 'had',\n",
       " 'having',\n",
       " 'do',\n",
       " 'does',\n",
       " 'did',\n",
       " 'doing',\n",
       " 'a',\n",
       " 'an',\n",
       " 'the',\n",
       " 'and',\n",
       " 'but',\n",
       " 'if',\n",
       " 'or',\n",
       " 'because',\n",
       " 'as',\n",
       " 'until',\n",
       " 'while',\n",
       " 'of',\n",
       " 'at',\n",
       " 'by',\n",
       " 'for',\n",
       " 'with',\n",
       " 'about',\n",
       " 'against',\n",
       " 'between',\n",
       " 'into',\n",
       " 'through',\n",
       " 'during',\n",
       " 'before',\n",
       " 'after',\n",
       " 'above',\n",
       " 'below',\n",
       " 'to',\n",
       " 'from',\n",
       " 'up',\n",
       " 'down',\n",
       " 'in',\n",
       " 'out',\n",
       " 'on',\n",
       " 'off',\n",
       " 'over',\n",
       " 'under',\n",
       " 'again',\n",
       " 'further',\n",
       " 'then',\n",
       " 'once',\n",
       " 'here',\n",
       " 'there',\n",
       " 'when',\n",
       " 'where',\n",
       " 'why',\n",
       " 'how',\n",
       " 'all',\n",
       " 'any',\n",
       " 'both',\n",
       " 'each',\n",
       " 'few',\n",
       " 'more',\n",
       " 'most',\n",
       " 'other',\n",
       " 'some',\n",
       " 'such',\n",
       " 'no',\n",
       " 'nor',\n",
       " 'not',\n",
       " 'only',\n",
       " 'own',\n",
       " 'same',\n",
       " 'so',\n",
       " 'than',\n",
       " 'too',\n",
       " 'very',\n",
       " 's',\n",
       " 't',\n",
       " 'can',\n",
       " 'will',\n",
       " 'just',\n",
       " 'don',\n",
       " \"don't\",\n",
       " 'should',\n",
       " \"should've\",\n",
       " 'now',\n",
       " 'd',\n",
       " 'll',\n",
       " 'm',\n",
       " 'o',\n",
       " 're',\n",
       " 've',\n",
       " 'y',\n",
       " 'ain',\n",
       " 'aren',\n",
       " \"aren't\",\n",
       " 'couldn',\n",
       " \"couldn't\",\n",
       " 'didn',\n",
       " \"didn't\",\n",
       " 'doesn',\n",
       " \"doesn't\",\n",
       " 'hadn',\n",
       " \"hadn't\",\n",
       " 'hasn',\n",
       " \"hasn't\",\n",
       " 'haven',\n",
       " \"haven't\",\n",
       " 'isn',\n",
       " \"isn't\",\n",
       " 'ma',\n",
       " 'mightn',\n",
       " \"mightn't\",\n",
       " 'mustn',\n",
       " \"mustn't\",\n",
       " 'needn',\n",
       " \"needn't\",\n",
       " 'shan',\n",
       " \"shan't\",\n",
       " 'shouldn',\n",
       " \"shouldn't\",\n",
       " 'wasn',\n",
       " \"wasn't\",\n",
       " 'weren',\n",
       " \"weren't\",\n",
       " 'won',\n",
       " \"won't\",\n",
       " 'wouldn',\n",
       " \"wouldn't\"]"
      ]
     },
     "execution_count": 3,
     "metadata": {},
     "output_type": "execute_result"
    }
   ],
   "source": [
    "from nltk.corpus import stopwords\n",
    "stopwords.words('english')"
   ]
  },
  {
   "cell_type": "code",
   "execution_count": 5,
   "metadata": {},
   "outputs": [
    {
     "data": {
      "text/plain": [
       "[('griffon', ['G', 'R', 'IH1', 'F', 'AH0', 'N']),\n",
       " ('griffy', ['G', 'R', 'IH1', 'F', 'IY0']),\n",
       " ('grigas', ['G', 'R', 'AY1', 'G', 'AH0', 'Z']),\n",
       " ('grigg', ['G', 'R', 'IH1', 'G']),\n",
       " ('griggs', ['G', 'R', 'IH1', 'G', 'Z']),\n",
       " ('griggy', ['G', 'R', 'IH1', 'G', 'IY0']),\n",
       " ('grignon', ['G', 'R', 'IH1', 'G', 'N', 'AH0', 'N']),\n",
       " ('grigoli', ['G', 'R', 'IH0', 'G', 'OW1', 'L', 'IY0']),\n",
       " ('grigorovich', ['G', 'R', 'IH0', 'G', 'AO1', 'R', 'AH0', 'V', 'IH0', 'CH']),\n",
       " ('grigory', ['G', 'R', 'EH1', 'G', 'ER0', 'IY0']),\n",
       " ('grigory', ['G', 'R', 'IY1', 'G', 'ER0', 'IY0']),\n",
       " ('grigoryant', ['G', 'R', 'IH0', 'G', 'AO1', 'R', 'Y', 'AE0', 'N', 'T']),\n",
       " ('grigoryants',\n",
       "  ['G', 'R', 'IH0', 'G', 'AO1', 'R', 'Y', 'AE0', 'N', 'T', 'S']),\n",
       " ('grigsby', ['G', 'R', 'IH1', 'G', 'Z', 'B', 'IY0']),\n",
       " ('grijalva', ['G', 'R', 'IY0', 'Y', 'AA1', 'L', 'V', 'AH0']),\n",
       " ('grill', ['G', 'R', 'IH1', 'L']),\n",
       " ('grille', ['G', 'R', 'IH1', 'L']),\n",
       " ('grilled', ['G', 'R', 'IH1', 'L', 'D']),\n",
       " ('grilli', ['G', 'R', 'IH1', 'L', 'IY0']),\n",
       " ('grilling', ['G', 'R', 'IH1', 'L', 'IH0', 'NG']),\n",
       " ('grilliot', ['G', 'R', 'IH1', 'L', 'IY0', 'AH0', 'T']),\n",
       " ('grillo', ['G', 'R', 'IH1', 'L', 'OW0']),\n",
       " ('grillot', ['G', 'R', 'IH1', 'L', 'AH0', 'T']),\n",
       " ('grills', ['G', 'R', 'IH1', 'L', 'Z']),\n",
       " ('grim', ['G', 'R', 'IH1', 'M']),\n",
       " ('grima', ['G', 'R', 'IY1', 'M', 'AH0']),\n",
       " ('grimace', ['G', 'R', 'IH1', 'M', 'AH0', 'S']),\n",
       " ('grimaced', ['G', 'R', 'IH1', 'M', 'AH0', 'S', 'T']),\n",
       " ('grimaces', ['G', 'R', 'IH1', 'M', 'AH0', 'S', 'IH0', 'Z']),\n",
       " ('grimacing', ['G', 'R', 'IH1', 'M', 'AH0', 'S', 'IH0', 'NG']),\n",
       " ('grimaldi', ['G', 'R', 'IY0', 'M', 'AA1', 'L', 'D', 'IY0']),\n",
       " ('grimaldo', ['G', 'R', 'IY0', 'M', 'AA1', 'L', 'D', 'OW0']),\n",
       " ('grime', ['G', 'R', 'AY1', 'M']),\n",
       " ('grimes', ['G', 'R', 'AY1', 'M', 'Z']),\n",
       " ('grimley', ['G', 'R', 'IH1', 'M', 'L', 'IY0']),\n",
       " ('grimly', ['G', 'R', 'IH1', 'M', 'L', 'IY0']),\n",
       " ('grimm', ['G', 'R', 'IH1', 'M']),\n",
       " ('grimme', ['G', 'R', 'IH1', 'M']),\n",
       " ('grimmer', ['G', 'R', 'IH1', 'M', 'ER0']),\n",
       " ('grimmest', ['G', 'R', 'IH1', 'M', 'AH0', 'S', 'T']),\n",
       " ('grimmett', ['G', 'R', 'IH1', 'M', 'IH0', 'T']),\n",
       " (\"grimm's\", ['G', 'R', 'IH1', 'M', 'Z']),\n",
       " ('grimness', ['G', 'R', 'IH1', 'M', 'N', 'AH0', 'S']),\n",
       " ('grimshaw', ['G', 'R', 'IH1', 'M', 'SH', 'AO2']),\n",
       " ('grimsley', ['G', 'R', 'IH1', 'M', 'Z', 'L', 'IY0']),\n",
       " ('grimstad', ['G', 'R', 'IH1', 'M', 'S', 'T', 'AH0', 'D']),\n",
       " ('grimwood', ['G', 'R', 'IH1', 'M', 'W', 'UH2', 'D']),\n",
       " ('grimy', ['G', 'R', 'AY1', 'M', 'IY0']),\n",
       " ('grin', ['G', 'R', 'IH1', 'N']),\n",
       " ('grinage', ['G', 'R', 'IH1', 'N', 'IH0', 'JH']),\n",
       " ('grinald', ['G', 'R', 'IH0', 'N', 'AA1', 'L', 'D']),\n",
       " ('grinalds', ['G', 'R', 'IH0', 'N', 'AA1', 'L', 'D', 'Z']),\n",
       " ('grinberg', ['G', 'R', 'IH1', 'N', 'B', 'ER0', 'G']),\n",
       " ('grinch', ['G', 'R', 'IH1', 'N', 'CH']),\n",
       " ('grind', ['G', 'R', 'AY1', 'N', 'D']),\n",
       " ('grinde', ['G', 'R', 'IH1', 'N', 'D']),\n",
       " ('grinder', ['G', 'R', 'AY1', 'N', 'D', 'ER0']),\n",
       " ('grinders', ['G', 'R', 'AY1', 'N', 'D', 'ER0', 'Z']),\n",
       " ('grinding', ['G', 'R', 'AY1', 'N', 'D', 'IH0', 'NG']),\n",
       " ('grindlay', ['G', 'R', 'AY1', 'N', 'D', 'L', 'EY2']),\n",
       " ('grindlay', ['G', 'R', 'IH1', 'N', 'D', 'L', 'IY2']),\n",
       " ('grindlays', ['G', 'R', 'AY1', 'N', 'D', 'L', 'EY2', 'Z']),\n",
       " ('grindlays', ['G', 'R', 'IH1', 'N', 'D', 'L', 'IY2', 'Z']),\n",
       " ('grindle', ['G', 'R', 'IH1', 'N', 'D', 'AH0', 'L']),\n",
       " ('grindley', ['G', 'R', 'IH1', 'N', 'D', 'L', 'IY0']),\n",
       " ('grindrod', ['G', 'R', 'AY1', 'N', 'D', 'R', 'AA2', 'D']),\n",
       " ('grinds', ['G', 'R', 'AY1', 'N', 'D', 'Z']),\n",
       " ('grindstaff', ['G', 'R', 'AY1', 'N', 'D', 'S', 'T', 'AE2', 'F']),\n",
       " ('grindstone', ['G', 'R', 'AY1', 'N', 'D', 'S', 'T', 'OW2', 'N']),\n",
       " ('grine', ['G', 'R', 'AY1', 'N']),\n",
       " ('griner', ['G', 'R', 'AY1', 'N', 'ER0']),\n",
       " ('gring', ['G', 'R', 'IH1', 'NG']),\n",
       " ('gringo', ['G', 'R', 'IH1', 'NG', 'G', 'OW0']),\n",
       " ('gringos', ['G', 'R', 'IH1', 'NG', 'G', 'OW0', 'Z']),\n",
       " ('grinned', ['G', 'R', 'IH1', 'N', 'D']),\n",
       " ('grinnell', ['G', 'R', 'IH0', 'N', 'EH1', 'L']),\n",
       " ('grinning', ['G', 'R', 'IH1', 'N', 'IH0', 'NG']),\n",
       " ('grins', ['G', 'R', 'IH1', 'N', 'Z']),\n",
       " ('grinstead', ['G', 'R', 'IH1', 'N', 'S', 'T', 'EH2', 'D']),\n",
       " ('grinstein', ['G', 'R', 'IH1', 'N', 'S', 'T', 'IY2', 'N']),\n",
       " ('grinstein', ['G', 'R', 'IH1', 'N', 'S', 'T', 'AY2', 'N']),\n",
       " ('grip', ['G', 'R', 'IH1', 'P']),\n",
       " ('gripe', ['G', 'R', 'AY1', 'P']),\n",
       " ('griped', ['G', 'R', 'AY1', 'P', 'T']),\n",
       " ('gripes', ['G', 'R', 'AY1', 'P', 'S']),\n",
       " ('griping', ['G', 'R', 'AY1', 'P', 'IH0', 'NG']),\n",
       " ('gripp', ['G', 'R', 'IH1', 'P']),\n",
       " ('gripped', ['G', 'R', 'IH1', 'P', 'T']),\n",
       " ('grippi', ['G', 'R', 'IH1', 'P', 'IY0']),\n",
       " ('gripping', ['G', 'R', 'IH1', 'P', 'IH0', 'NG']),\n",
       " ('grippo', ['G', 'R', 'IH1', 'P', 'OW0']),\n",
       " ('grips', ['G', 'R', 'IH1', 'P', 'S']),\n",
       " ('grisanti', ['G', 'R', 'IH0', 'S', 'AE1', 'N', 'T', 'IY0']),\n",
       " ('grisby', ['G', 'R', 'IH1', 'S', 'B', 'IY0']),\n",
       " ('griscom', ['G', 'R', 'IH1', 'S', 'K', 'AH0', 'M']),\n",
       " ('grise', ['G', 'R', 'AY1', 'Z']),\n",
       " ('grisham', ['G', 'R', 'IH1', 'SH', 'AH0', 'M']),\n",
       " (\"grisham's\", ['G', 'R', 'IH1', 'SH', 'AH0', 'M', 'Z']),\n",
       " ('grishilda', ['G', 'R', 'IH0', 'SH', 'IH1', 'L', 'D', 'AH0']),\n",
       " ('grishman', ['G', 'R', 'IH1', 'SH', 'M', 'AH0', 'N'])]"
      ]
     },
     "execution_count": 5,
     "metadata": {},
     "output_type": "execute_result"
    }
   ],
   "source": [
    "import nltk\n",
    "entries=nltk.corpus.cmudict.entries()\n",
    "len(entries)\n",
    "entries[50000:50100]"
   ]
  },
  {
   "cell_type": "code",
   "execution_count": 6,
   "metadata": {},
   "outputs": [
    {
     "data": {
      "text/plain": [
       "[Synset('good.n.01'),\n",
       " Synset('good.n.02'),\n",
       " Synset('good.n.03'),\n",
       " Synset('commodity.n.01'),\n",
       " Synset('good.a.01'),\n",
       " Synset('full.s.06'),\n",
       " Synset('good.a.03'),\n",
       " Synset('estimable.s.02'),\n",
       " Synset('beneficial.s.01'),\n",
       " Synset('good.s.06'),\n",
       " Synset('good.s.07'),\n",
       " Synset('adept.s.01'),\n",
       " Synset('good.s.09'),\n",
       " Synset('dear.s.02'),\n",
       " Synset('dependable.s.04'),\n",
       " Synset('good.s.12'),\n",
       " Synset('good.s.13'),\n",
       " Synset('effective.s.04'),\n",
       " Synset('good.s.15'),\n",
       " Synset('good.s.16'),\n",
       " Synset('good.s.17'),\n",
       " Synset('good.s.18'),\n",
       " Synset('good.s.19'),\n",
       " Synset('good.s.20'),\n",
       " Synset('good.s.21'),\n",
       " Synset('well.r.01'),\n",
       " Synset('thoroughly.r.02')]"
      ]
     },
     "execution_count": 6,
     "metadata": {},
     "output_type": "execute_result"
    }
   ],
   "source": [
    "from nltk.corpus import wordnet as wn\n",
    "wn.synsets('good')"
   ]
  },
  {
   "cell_type": "code",
   "execution_count": 7,
   "metadata": {},
   "outputs": [
    {
     "data": {
      "text/plain": [
       "['good', 'goodness']"
      ]
     },
     "execution_count": 7,
     "metadata": {},
     "output_type": "execute_result"
    }
   ],
   "source": [
    "wn.synset('good.n.03').lemma_names()"
   ]
  },
  {
   "cell_type": "code",
   "execution_count": 8,
   "metadata": {},
   "outputs": [
    {
     "data": {
      "text/plain": [
       "'happi'"
      ]
     },
     "execution_count": 8,
     "metadata": {},
     "output_type": "execute_result"
    }
   ],
   "source": [
    "import nltk\n",
    "from nltk.stem import PorterStemmer\n",
    "stemmerporter=PorterStemmer()\n",
    "stemmerporter.stem('happiness')"
   ]
  },
  {
   "cell_type": "code",
   "execution_count": 9,
   "metadata": {},
   "outputs": [
    {
     "data": {
      "text/plain": [
       "'happy'"
      ]
     },
     "execution_count": 9,
     "metadata": {},
     "output_type": "execute_result"
    }
   ],
   "source": [
    "import nltk\n",
    "from nltk.stem import LancasterStemmer\n",
    "stemmer=LancasterStemmer()\n",
    "stemmer.stem('happiness')"
   ]
  },
  {
   "cell_type": "code",
   "execution_count": 10,
   "metadata": {},
   "outputs": [
    {
     "data": {
      "text/plain": [
       "'happi'"
      ]
     },
     "execution_count": 10,
     "metadata": {},
     "output_type": "execute_result"
    }
   ],
   "source": [
    "import nltk\n",
    "from nltk.stem import SnowballStemmer\n",
    "stemmer=SnowballStemmer('english')\n",
    "stemmer.stem('happiness')"
   ]
  },
  {
   "cell_type": "code",
   "execution_count": 11,
   "metadata": {},
   "outputs": [
    {
     "name": "stdout",
     "output_type": "stream",
     "text": [
      "inherit will, the destini of the age, and the dream of the people. As long as peopl continu to pursu the mean of freedom, these thing will never ceas to be!\n"
     ]
    }
   ],
   "source": [
    "import nltk\n",
    "from nltk.stem import PorterStemmer\n",
    "stemmerporter=PorterStemmer()\n",
    "e=\"Inherited Will, The Destiny of the Age, and The Dreams of the People. As long as people continue to pursue the meaning of Freedom, these things will never cease to be!\"\n",
    "e=[stemmerporter.stem(token) for token in e.split(\" \")]\n",
    "print(\" \".join(e))"
   ]
  },
  {
   "cell_type": "code",
   "execution_count": 12,
   "metadata": {},
   "outputs": [
    {
     "name": "stdout",
     "output_type": "stream",
     "text": [
      "cactus\n"
     ]
    }
   ],
   "source": [
    "import nltk\n",
    "from nltk.stem import WordNetLemmatizer\n",
    "lemmatizer=WordNetLemmatizer()\n",
    "print(lemmatizer.lemmatize(\"cacti\"))"
   ]
  },
  {
   "cell_type": "code",
   "execution_count": 13,
   "metadata": {},
   "outputs": [
    {
     "name": "stdout",
     "output_type": "stream",
     "text": [
      "good\n"
     ]
    }
   ],
   "source": [
    "print(lemmatizer.lemmatize(\"better\",pos='a'))"
   ]
  },
  {
   "cell_type": "code",
   "execution_count": 14,
   "metadata": {},
   "outputs": [
    {
     "name": "stderr",
     "output_type": "stream",
     "text": [
      "Building prefix dict from the default dictionary ...\n",
      "Dumping model to file cache C:\\Users\\sidda\\AppData\\Local\\Temp\\jieba.cache\n",
      "Loading model cost 1.003 seconds.\n",
      "Prefix dict has been built successfully.\n"
     ]
    },
    {
     "name": "stdout",
     "output_type": "stream",
     "text": [
      "和 其它 版本 的 维基 维基百 维基百科 百科 一样 ， 中文 维基 维基百 维基百科 百科 也 是 民主 民主制 、 精英 英制 、 特权 权制 的 混合 ， 通常 大部 大部分 部分 的 内容 ， 由 普通 的 网友 讨论 、 修改 ， 通常 为民 民主 的 形式 ， 而 维基 管理 管理员 則 因特 特殊 、 適 當 的 理由 而 解除 部分 限制 ， 例如 修改 首 頁 、 删除 不 適 當 的 条目 或 封禁 禁用 用户 。\n"
     ]
    }
   ],
   "source": [
    "import jieba\n",
    "seg=jieba.cut(\"和其它版本的维基百科一样，中文维基百科也是民主制、精英制、特权制的混合，通常大部分的内容，由普通的网友讨论、修改，通常为民主的形式，而维基管理员則因特殊、適當的理由而解除部分限制，例如修改首頁、删除不適當的条目或封禁用户。\",cut_all=True)\n",
    "print(\" \".join(seg))"
   ]
  },
  {
   "cell_type": "code",
   "execution_count": null,
   "metadata": {},
   "outputs": [],
   "source": []
  }
 ],
 "metadata": {
  "kernelspec": {
   "display_name": "Python 3",
   "language": "python",
   "name": "python3"
  },
  "language_info": {
   "codemirror_mode": {
    "name": "ipython",
    "version": 3
   },
   "file_extension": ".py",
   "mimetype": "text/x-python",
   "name": "python",
   "nbconvert_exporter": "python",
   "pygments_lexer": "ipython3",
   "version": "3.7.6"
  }
 },
 "nbformat": 4,
 "nbformat_minor": 4
}
