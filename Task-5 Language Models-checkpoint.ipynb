{
 "cells": [
  {
   "cell_type": "code",
   "execution_count": 1,
   "metadata": {},
   "outputs": [],
   "source": [
    "import spacy"
   ]
  },
  {
   "cell_type": "code",
   "execution_count": 3,
   "metadata": {},
   "outputs": [],
   "source": [
    "m = spacy.load('en_core_web_sm')"
   ]
  },
  {
   "cell_type": "code",
   "execution_count": 4,
   "metadata": {},
   "outputs": [],
   "source": [
    "text1 = \"\"\"Google, LLC is an American multinational technology company that specializes in Internet-related services and products, \n",
    "which include online advertising technologies, a search engine, cloud computing, software, and hardware. \n",
    "It is considered one of the Big Four technology companies in the U.S. information technology industry, alongside Amazon, Apple, and Microsoft\"\"\""
   ]
  },
  {
   "cell_type": "code",
   "execution_count": 5,
   "metadata": {},
   "outputs": [],
   "source": [
    "doc1 = m(text1)"
   ]
  },
  {
   "cell_type": "code",
   "execution_count": 6,
   "metadata": {},
   "outputs": [
    {
     "name": "stdout",
     "output_type": "stream",
     "text": [
      "Google ORG\n",
      "LLC ORG\n",
      "American NORP\n",
      "Four CARDINAL\n",
      "U.S. GPE\n",
      "Amazon ORG\n",
      "Apple ORG\n",
      "Microsoft ORG\n"
     ]
    }
   ],
   "source": [
    "for ent in doc1.ents:\n",
    "  print(ent.text, ent.label_)"
   ]
  },
  {
   "cell_type": "code",
   "execution_count": 12,
   "metadata": {},
   "outputs": [
    {
     "name": "stdout",
     "output_type": "stream",
     "text": [
      "Detroit GPE\n",
      "Nebraska GPE\n",
      "the \n",
      "same night TIME\n"
     ]
    }
   ],
   "source": [
    "text2 = \"\"\"And whether a child is born in the urban sprawl of Detroit or the windswept plains of Nebraska, they look up at the \n",
    "same night sky, they fill their heart with the same dreams, and they are infused with the breath of life by the same almighty \n",
    "Creator.\"\"\"\n",
    "\n",
    "doc2 = m(text2)\n",
    "\n",
    "for ent in doc2.ents:\n",
    "  print(ent.text, ent.label_)"
   ]
  },
  {
   "cell_type": "code",
   "execution_count": 13,
   "metadata": {},
   "outputs": [
    {
     "data": {
      "text/plain": [
       "['Georgia-Pacific']"
      ]
     },
     "execution_count": 13,
     "metadata": {},
     "output_type": "execute_result"
    }
   ],
   "source": [
    "#Querying\n",
    "locs = [(\"Omnicon\",\"IN\", \"New York\"),(\"Georgia-Pacific\",\"IN\",\"Atlanta\"),(\"DOB Needhan\",\"IN\",\"New York\")]\n",
    "query = [e1 for(e1, rel, e2) in locs if e2 == \"Atlanta\"]\n",
    "query"
   ]
  },
  {
   "cell_type": "code",
   "execution_count": null,
   "metadata": {},
   "outputs": [],
   "source": []
  }
 ],
 "metadata": {
  "kernelspec": {
   "display_name": "Python 3",
   "language": "python",
   "name": "python3"
  },
  "language_info": {
   "codemirror_mode": {
    "name": "ipython",
    "version": 3
   },
   "file_extension": ".py",
   "mimetype": "text/x-python",
   "name": "python",
   "nbconvert_exporter": "python",
   "pygments_lexer": "ipython3",
   "version": "3.7.6"
  }
 },
 "nbformat": 4,
 "nbformat_minor": 4
}
